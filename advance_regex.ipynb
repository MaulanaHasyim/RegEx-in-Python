{
  "nbformat": 4,
  "nbformat_minor": 0,
  "metadata": {
    "colab": {
      "provenance": [],
      "include_colab_link": true
    },
    "kernelspec": {
      "name": "python3",
      "display_name": "Python 3"
    },
    "language_info": {
      "name": "python"
    }
  },
  "cells": [
    {
      "cell_type": "markdown",
      "metadata": {
        "id": "view-in-github",
        "colab_type": "text"
      },
      "source": [
        "<a href=\"https://colab.research.google.com/github/MaulanaHasyim/RegEx-in-Python/blob/main/advance_regex.ipynb\" target=\"_parent\"><img src=\"https://colab.research.google.com/assets/colab-badge.svg\" alt=\"Open In Colab\"/></a>"
      ]
    },
    {
      "cell_type": "markdown",
      "source": [
        "# Find all matched substring occurence"
      ],
      "metadata": {
        "id": "8fVZUUTpyXm8"
      }
    },
    {
      "cell_type": "code",
      "source": [
        "while ($string =~ m/regex/g) {\n",
        "  print \"Ditemukan '$&'.  kemunculan selanjutnya pada karakter \" . pos($string)+1 . \"\\n\";\n",
        "}"
      ],
      "metadata": {
        "id": "qBnRxwtOy9ry"
      },
      "execution_count": null,
      "outputs": []
    },
    {
      "cell_type": "markdown",
      "source": [
        "## VS"
      ],
      "metadata": {
        "id": "NKGiL5W3ywzM"
      }
    },
    {
      "cell_type": "code",
      "source": [
        " import re\n",
        " \n",
        " re.findall(pattern, string[, flags])"
      ],
      "metadata": {
        "id": "VgKj_mPtyxp3"
      },
      "execution_count": null,
      "outputs": []
    },
    {
      "cell_type": "markdown",
      "source": [
        "findall mengembalikan semua kecocokan pola yang tidak tumpang tindih dalam string, sebagai daftar string. String dipindai dari kiri ke kanan, dan kecocokan dikembalikan sesuai urutan ditemukannya."
      ],
      "metadata": {
        "id": "IeoXc5mJ0VqT"
      }
    },
    {
      "cell_type": "code",
      "source": [
        " import re\n",
        "\n",
        "t=\"A fat cat doesn't eat oat but a rat eats bats.\"\n",
        "mo = re.findall(\"[force]at\", t)\n",
        "print(mo)"
      ],
      "metadata": {
        "colab": {
          "base_uri": "https://localhost:8080/"
        },
        "id": "ZZJl2Pxt0UvZ",
        "outputId": "d5db5818-a145-494e-d27d-4895d7e17de4"
      },
      "execution_count": null,
      "outputs": [
        {
          "output_type": "stream",
          "name": "stdout",
          "text": [
            "['fat', 'cat', 'eat', 'oat', 'rat', 'eat']\n"
          ]
        }
      ]
    },
    {
      "cell_type": "markdown",
      "source": [
        "Jika satu atau lebih grup ada dalam pola, findall mengembalikan list group. Ini akan menjadi daftar tupel jika polanya memiliki lebih dari satu grup. Kita menunjukkan ini dalam contoh kita berikutnya. Kita memiliki rangkaian panjang dengan berbagai kursus pelatihan Python dan tanggalnya. Dengan panggilan pertama ke findall, kita tidak menggunakan pengelompokan apa pun dan sebagai hasilnya menerima string lengkap. Dalam panggilan berikutnya, kita menggunakan pengelompokan dan findall mengembalikan daftar 2-tupel, masing-masing memiliki nama kursus sebagai komponen pertama dan tanggal sebagai komponen kedua:"
      ],
      "metadata": {
        "id": "ZM59Vsef1P8R"
      }
    },
    {
      "cell_type": "code",
      "source": [
        "import re\n",
        "courses = '''Python Training Course for Beginners: 15/Aug/2011 - 19/Aug/2011; Python Training Course Intermediate: 12/Dec/2011 - 16/Dec/2011;Python Text Processing Course:31/Oct/2011 - 4/Nov/201'''\n",
        "items = re.findall(\"[^:]*:[^;]*;?\", courses)\n",
        "items"
      ],
      "metadata": {
        "colab": {
          "base_uri": "https://localhost:8080/"
        },
        "id": "Cr0t3EID0aXL",
        "outputId": "0a418e64-2232-4a02-8ee3-61ca72b215df"
      },
      "execution_count": null,
      "outputs": [
        {
          "output_type": "execute_result",
          "data": {
            "text/plain": [
              "['Python Training Course for Beginners: 15/Aug/2011 - 19/Aug/2011;',\n",
              " ' Python Training Course Intermediate: 12/Dec/2011 - 16/Dec/2011;',\n",
              " 'Python Text Processing Course:31/Oct/2011 - 4/Nov/201']"
            ]
          },
          "metadata": {},
          "execution_count": 5
        }
      ]
    },
    {
      "cell_type": "code",
      "source": [
        "items = re.findall(\"([^:]*):([^;]*;?)\", courses)\n",
        "items"
      ],
      "metadata": {
        "colab": {
          "base_uri": "https://localhost:8080/"
        },
        "id": "KY8wSsAD1qRr",
        "outputId": "a52d3111-ccde-4277-e772-87c1df5f9ada"
      },
      "execution_count": null,
      "outputs": [
        {
          "output_type": "execute_result",
          "data": {
            "text/plain": [
              "[('Python Training Course for Beginners', ' 15/Aug/2011 - 19/Aug/2011;'),\n",
              " (' Python Training Course Intermediate', ' 12/Dec/2011 - 16/Dec/2011;'),\n",
              " ('Python Text Processing Course', '31/Oct/2011 - 4/Nov/201')]"
            ]
          },
          "metadata": {},
          "execution_count": 6
        }
      ]
    },
    {
      "cell_type": "markdown",
      "source": [
        "# Alternation (Substitusi)"
      ],
      "metadata": {
        "id": "pWHUAacL25_c"
      }
    },
    {
      "cell_type": "code",
      "source": [
        "import re\n",
        "str = \"Course location is Jakarta or Strasbourg!\"\n",
        "mo = re.search(r\"location.*(London|Jakarta|Bandung|Strasbourg)\",str)\n",
        "if mo: print(mo.group())"
      ],
      "metadata": {
        "colab": {
          "base_uri": "https://localhost:8080/"
        },
        "id": "f7KvD94z2CyN",
        "outputId": "e7753dbc-8179-455a-b42a-0dc20649e46c"
      },
      "execution_count": null,
      "outputs": [
        {
          "output_type": "stream",
          "name": "stdout",
          "text": [
            "location is Jakarta or Strasbourg\n"
          ]
        }
      ]
    },
    {
      "cell_type": "markdown",
      "source": [
        "Jika Anda menganggap contoh sebelumnya terlalu artifisial, ini satu lagi. Mari kita asumsikan, Anda ingin memfilter email Anda. Anda ingin menemukan semua korespondensi (percakapan) antara Anda dan Tutor MySkill. Ekspresi reguler berikut berguna untuk tujuan ini:"
      ],
      "metadata": {
        "id": "YTm3rUZp36CG"
      }
    },
    {
      "cell_type": "markdown",
      "source": [
        "r\"(^To:|^From:) (Tutor|My Skill)\""
      ],
      "metadata": {
        "id": "PFKEvbQO4Dj4"
      }
    },
    {
      "cell_type": "markdown",
      "source": [
        "Ekspresi ini cocok dengan semua baris yang dimulai dengan 'To:' atau 'From:', diikuti dengan spasi dan kemudian dengan nama depan 'My' atau nama blakang.'My Skill'."
      ],
      "metadata": {
        "id": "Iznf2WV14LlV"
      }
    },
    {
      "cell_type": "markdown",
      "source": [
        "# Splitting String dengan dan tanpa RegEx"
      ],
      "metadata": {
        "id": "Ek6XSKnU4c7H"
      }
    },
    {
      "cell_type": "markdown",
      "source": [
        "## Split tanpa Regex"
      ],
      "metadata": {
        "id": "A9tSD1aW7njP"
      }
    },
    {
      "cell_type": "markdown",
      "source": [
        "str.split([sep[, maxsplit]]) "
      ],
      "metadata": {
        "id": "0q3ux3Lm53ph"
      }
    },
    {
      "cell_type": "code",
      "source": [
        "law_courses = \"Let reverence for the laws be breathed by every American mother to the lisping babe that prattles on her lap. Let it be taught in schools, in seminaries, and in colleges. Let it be written in primers, spelling books, and in almanacs. Let it be preached from the pulpit, proclaimed in legislative halls, and enforced in the courts of justice. And, in short, let it become the political religion of the nation.\"\n",
        "law_courses.split()\n"
      ],
      "metadata": {
        "colab": {
          "base_uri": "https://localhost:8080/"
        },
        "id": "J3mniLBc3pm9",
        "outputId": "e9a0e547-1a42-4156-e85d-a1e925d6c04d"
      },
      "execution_count": null,
      "outputs": [
        {
          "output_type": "execute_result",
          "data": {
            "text/plain": [
              "['Let',\n",
              " 'reverence',\n",
              " 'for',\n",
              " 'the',\n",
              " 'laws',\n",
              " 'be',\n",
              " 'breathed',\n",
              " 'by',\n",
              " 'every',\n",
              " 'American',\n",
              " 'mother',\n",
              " 'to',\n",
              " 'the',\n",
              " 'lisping',\n",
              " 'babe',\n",
              " 'that',\n",
              " 'prattles',\n",
              " 'on',\n",
              " 'her',\n",
              " 'lap.',\n",
              " 'Let',\n",
              " 'it',\n",
              " 'be',\n",
              " 'taught',\n",
              " 'in',\n",
              " 'schools,',\n",
              " 'in',\n",
              " 'seminaries,',\n",
              " 'and',\n",
              " 'in',\n",
              " 'colleges.',\n",
              " 'Let',\n",
              " 'it',\n",
              " 'be',\n",
              " 'written',\n",
              " 'in',\n",
              " 'primers,',\n",
              " 'spelling',\n",
              " 'books,',\n",
              " 'and',\n",
              " 'in',\n",
              " 'almanacs.',\n",
              " 'Let',\n",
              " 'it',\n",
              " 'be',\n",
              " 'preached',\n",
              " 'from',\n",
              " 'the',\n",
              " 'pulpit,',\n",
              " 'proclaimed',\n",
              " 'in',\n",
              " 'legislative',\n",
              " 'halls,',\n",
              " 'and',\n",
              " 'enforced',\n",
              " 'in',\n",
              " 'the',\n",
              " 'courts',\n",
              " 'of',\n",
              " 'justice.',\n",
              " 'And,',\n",
              " 'in',\n",
              " 'short,',\n",
              " 'let',\n",
              " 'it',\n",
              " 'become',\n",
              " 'the',\n",
              " 'political',\n",
              " 'religion',\n",
              " 'of',\n",
              " 'the',\n",
              " 'nation.']"
            ]
          },
          "metadata": {},
          "execution_count": 9
        }
      ]
    },
    {
      "cell_type": "markdown",
      "source": [
        "Sekarang kita melihat string, yang dapat berasal dari file calc Excel atau OpenOffice. Kita telah melihat pada contoh sebelumnya bahwa split mengambil spasi putih sebagai pemisah default. Kita ingin membagi string dalam contoh kecil berikut menggunakan titik koma sebagai pemisah. Satu-satunya hal yang harus kita lakukan adalah menggunakan \";\" sebagai argumen split():"
      ],
      "metadata": {
        "id": "F-hBMyLx62Rs"
      }
    },
    {
      "cell_type": "code",
      "source": [
        "line = \"Faras;Tata;Fauziah;Pearl\"\n",
        "line.split(\";\")"
      ],
      "metadata": {
        "colab": {
          "base_uri": "https://localhost:8080/"
        },
        "id": "cTGzaaXa6pdR",
        "outputId": "5dd57f79-6f0e-4686-df83-e6149af58d74"
      },
      "execution_count": null,
      "outputs": [
        {
          "output_type": "execute_result",
          "data": {
            "text/plain": [
              "['Faras', 'Tata', 'Fauziah', 'Pearl']"
            ]
          },
          "metadata": {},
          "execution_count": 10
        }
      ]
    },
    {
      "cell_type": "markdown",
      "source": [
        "Metode split() memiliki parameter opsional lain: maxsplit. Jika maxsplit diberikan, paling banyak maxsplit split dilakukan. Ini berarti daftar yang dihasilkan akan memiliki paling banyak elemen \"maxsplit + 1\". Kita akan mengilustrasikan mode operasi maxsplit dalam contoh berikut:"
      ],
      "metadata": {
        "id": "_kAaOMZh7FQK"
      }
    },
    {
      "cell_type": "code",
      "source": [
        "mammon = \"The god of the world's leading religion. The chief temple is in the holy city of New York.\"\n",
        "mammon.split(\" \",3)"
      ],
      "metadata": {
        "colab": {
          "base_uri": "https://localhost:8080/"
        },
        "id": "dCwNE-KL7ExK",
        "outputId": "18a5ae31-1737-44ff-c06c-282998e9fc7d"
      },
      "execution_count": null,
      "outputs": [
        {
          "output_type": "execute_result",
          "data": {
            "text/plain": [
              "['The',\n",
              " 'god',\n",
              " 'of',\n",
              " \"the world's leading religion. The chief temple is in the holy city of New York.\"]"
            ]
          },
          "metadata": {},
          "execution_count": 11
        }
      ]
    },
    {
      "cell_type": "markdown",
      "source": [
        "Kita menggunakan Kosong sebagai string pembatas pada contoh sebelumnya, yang dapat menjadi masalah: Jika beberapa kosong atau spasi terhubung, split() akan membagi string setelah setiap kosong, sehingga kita akan mendapatkan string dan string kosong hanya dengan tab di dalam ('\\t') dalam daftar hasil kita:"
      ],
      "metadata": {
        "id": "HrUsftT37Po_"
      }
    },
    {
      "cell_type": "code",
      "source": [
        "mammon = \"The god  \\t of the world's leading religion. The chief temple is in the holy city of New York.\"\n",
        "mammon.split(\" \",5)"
      ],
      "metadata": {
        "colab": {
          "base_uri": "https://localhost:8080/"
        },
        "id": "m_0dr7sX7AYv",
        "outputId": "87017fe7-9a02-4e81-c44f-b6d5b329e3c9"
      },
      "execution_count": null,
      "outputs": [
        {
          "output_type": "execute_result",
          "data": {
            "text/plain": [
              "['The',\n",
              " 'god',\n",
              " '',\n",
              " '\\t',\n",
              " 'of',\n",
              " \"the world's leading religion. The chief temple is in the holy city of New York.\"]"
            ]
          },
          "metadata": {},
          "execution_count": 12
        }
      ]
    },
    {
      "cell_type": "markdown",
      "source": [
        "Kita dapat mencegah pemisahan string kosong dengan menggunakan None sebagai argumen pertama. Sekarang split akan menggunakan perilaku default, yaitu setiap substring yang terdiri dari karakter spasi putih yang terhubung akan diambil sebagai satu pemisah:"
      ],
      "metadata": {
        "id": "DcyyQgHo7eU3"
      }
    },
    {
      "cell_type": "code",
      "source": [
        "mammon.split(None,5)"
      ],
      "metadata": {
        "colab": {
          "base_uri": "https://localhost:8080/"
        },
        "id": "ht7PpzCw7VX2",
        "outputId": "2b05e6ce-b19c-4539-d238-4c7bd941f375"
      },
      "execution_count": null,
      "outputs": [
        {
          "output_type": "execute_result",
          "data": {
            "text/plain": [
              "['The',\n",
              " 'god',\n",
              " 'of',\n",
              " 'the',\n",
              " \"world's\",\n",
              " 'leading religion. The chief temple is in the holy city of New York.']"
            ]
          },
          "metadata": {},
          "execution_count": 13
        }
      ]
    },
    {
      "cell_type": "markdown",
      "source": [
        "## Split dengan Regex"
      ],
      "metadata": {
        "id": "xOSV9xfY7qSC"
      }
    },
    {
      "cell_type": "markdown",
      "source": [
        "Metode string split() adalah alat yang tepat dalam banyak kasus, tetapi apa, jika Anda mau, mis. untuk mendapatkan kata-kata kosong dari sebuah teks, yaitu tanpa karakter khusus dan spasi. Jika kita menginginkan ini, kita harus menggunakan fungsi split dari modul re. Kita mengilustrasikan metode ini dengan teks singkat dari awal Metamorphoses oleh Ovid:"
      ],
      "metadata": {
        "id": "WCSm25KI7wW2"
      }
    },
    {
      "cell_type": "code",
      "source": [
        "import re\n",
        "metamorphoses = \"OF bodies chang'd to various forms, I sing: Ye Gods, from whom these miracles did spring, Inspire my numbers with coelestial heat;\"\n",
        "re.split(\"\\W+\",metamorphoses)"
      ],
      "metadata": {
        "colab": {
          "base_uri": "https://localhost:8080/"
        },
        "id": "hjFgrqJs7jwd",
        "outputId": "0303bac8-2474-4fff-c2c5-3db1b1b326c4"
      },
      "execution_count": null,
      "outputs": [
        {
          "output_type": "execute_result",
          "data": {
            "text/plain": [
              "['OF',\n",
              " 'bodies',\n",
              " 'chang',\n",
              " 'd',\n",
              " 'to',\n",
              " 'various',\n",
              " 'forms',\n",
              " 'I',\n",
              " 'sing',\n",
              " 'Ye',\n",
              " 'Gods',\n",
              " 'from',\n",
              " 'whom',\n",
              " 'these',\n",
              " 'miracles',\n",
              " 'did',\n",
              " 'spring',\n",
              " 'Inspire',\n",
              " 'my',\n",
              " 'numbers',\n",
              " 'with',\n",
              " 'coelestial',\n",
              " 'heat',\n",
              " '']"
            ]
          },
          "metadata": {},
          "execution_count": 1
        }
      ]
    },
    {
      "cell_type": "markdown",
      "source": [
        "Contoh berikut adalah kasus yang bagus, di mana ekspresi reguler benar-benar lebih unggul daripada pemisahan string. Mari kita asumsikan bahwa kita memiliki baris data dengan nama keluarga, nama depan, dan nama profesi. Kita ingin menghapus baris data dari deskripsi teks yang berlebihan dan berlebihan, yaitu \"nama keluarga: \", \"nama depan: \" dan seterusnya, sehingga kita hanya memiliki nama keluarga di kolom pertama, nama pertama di kolom kedua dan profesi di kolom ketiga:"
      ],
      "metadata": {
        "id": "0kGuHmWY9G6z"
      }
    },
    {
      "cell_type": "code",
      "source": [
        "import re\n",
        "lines = [\"surname: Nelson, prename: Mandela, profession: president\", \"surname: Merkel, prename: Skylar, profession: chancellor\"]\n",
        "for line in lines:\n",
        "    print(re.split(\",* *\\w*: \", line))    "
      ],
      "metadata": {
        "colab": {
          "base_uri": "https://localhost:8080/"
        },
        "id": "31f-Enjb8rAm",
        "outputId": "13868d63-a78c-4ac8-a3dd-e44add8d302c"
      },
      "execution_count": null,
      "outputs": [
        {
          "output_type": "stream",
          "name": "stdout",
          "text": [
            "['', 'Nelson', 'Mandela', 'president']\n",
            "['', 'Merkel', 'Skylar', 'chancellor']\n"
          ]
        }
      ]
    },
    {
      "cell_type": "markdown",
      "source": [
        "Kita dapat dengan mudah meningkatkan skrip dengan menggunakan operator slice, sehingga kita tidak memiliki string kosong sebagai elemen pertama dari daftar hasil kita:"
      ],
      "metadata": {
        "id": "_FQ49jST9boR"
      }
    },
    {
      "cell_type": "code",
      "source": [
        "import re\n",
        "lines = [\"surname: Nelson, prename: Mandela, profession: president\", \"surname: Merkel, prename: Skylar, profession: chancellor\"]\n",
        "for line in lines:\n",
        "    print(re.split(\",* *\\w*: \", line)[1:])    \n"
      ],
      "metadata": {
        "colab": {
          "base_uri": "https://localhost:8080/"
        },
        "id": "g92aKf_f9REG",
        "outputId": "39557d07-5f1e-4eea-eb32-525cd40e7be0"
      },
      "execution_count": null,
      "outputs": [
        {
          "output_type": "stream",
          "name": "stdout",
          "text": [
            "['Nelson', 'Mandela', 'president']\n",
            "['Merkel', 'Skylar', 'chancellor']\n"
          ]
        }
      ]
    },
    {
      "cell_type": "markdown",
      "source": [
        "# Search dan Replace dengan sub()\n",
        "\n",
        "---\n",
        "\n"
      ],
      "metadata": {
        "id": "QFAd8ehV9xMI"
      }
    },
    {
      "cell_type": "markdown",
      "source": [
        "re.sub(regex, replacement, subject)"
      ],
      "metadata": {
        "id": "1BHqwqtY-OJQ"
      }
    },
    {
      "cell_type": "code",
      "source": [
        "import re\n",
        "str = \"yes I said yes I will Yes.\"\n",
        "res = re.sub(\"[Yy]es\",\"no\", str)\n",
        "print(res)"
      ],
      "metadata": {
        "colab": {
          "base_uri": "https://localhost:8080/"
        },
        "id": "x3kCqU7T9jQr",
        "outputId": "f1b8e56a-5544-4937-b422-2376d81fa976"
      },
      "execution_count": null,
      "outputs": [
        {
          "output_type": "stream",
          "name": "stdout",
          "text": [
            "no I said no I will no.\n"
          ]
        }
      ]
    },
    {
      "cell_type": "code",
      "source": [],
      "metadata": {
        "id": "zZ1g5iEK-afH"
      },
      "execution_count": null,
      "outputs": []
    }
  ]
}